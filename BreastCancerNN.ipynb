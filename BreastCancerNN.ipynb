{
  "nbformat": 4,
  "nbformat_minor": 0,
  "metadata": {
    "colab": {
      "name": "BreastCancerNN.ipynb",
      "version": "0.3.2",
      "provenance": [],
      "include_colab_link": true
    },
    "kernelspec": {
      "name": "python3",
      "display_name": "Python 3"
    },
    "accelerator": "GPU"
  },
  "cells": [
    {
      "cell_type": "markdown",
      "metadata": {
        "id": "view-in-github",
        "colab_type": "text"
      },
      "source": [
        "<a href=\"https://colab.research.google.com/github/westbrown1/tf-breast-cancer-nn/blob/master/BreastCancerNN.ipynb\" target=\"_parent\"><img src=\"https://colab.research.google.com/assets/colab-badge.svg\" alt=\"Open In Colab\"/></a>"
      ]
    },
    {
      "cell_type": "code",
      "metadata": {
        "id": "5U9_8kY3vLP1",
        "colab_type": "code",
        "outputId": "0c49585c-ff53-46fb-bc26-d96e2302b315",
        "colab": {
          "base_uri": "https://localhost:8080/",
          "height": 377
        }
      },
      "source": [
        "!pip install tensorflow"
      ],
      "execution_count": 0,
      "outputs": [
        {
          "output_type": "stream",
          "text": [
            "Requirement already satisfied: tensorflow in /usr/local/lib/python3.6/dist-packages (1.13.1)\n",
            "Requirement already satisfied: tensorflow-estimator<1.14.0rc0,>=1.13.0 in /usr/local/lib/python3.6/dist-packages (from tensorflow) (1.13.0)\n",
            "Requirement already satisfied: six>=1.10.0 in /usr/local/lib/python3.6/dist-packages (from tensorflow) (1.11.0)\n",
            "Requirement already satisfied: tensorboard<1.14.0,>=1.13.0 in /usr/local/lib/python3.6/dist-packages (from tensorflow) (1.13.1)\n",
            "Requirement already satisfied: termcolor>=1.1.0 in /usr/local/lib/python3.6/dist-packages (from tensorflow) (1.1.0)\n",
            "Requirement already satisfied: keras-applications>=1.0.6 in /usr/local/lib/python3.6/dist-packages (from tensorflow) (1.0.7)\n",
            "Requirement already satisfied: gast>=0.2.0 in /usr/local/lib/python3.6/dist-packages (from tensorflow) (0.2.2)\n",
            "Requirement already satisfied: grpcio>=1.8.6 in /usr/local/lib/python3.6/dist-packages (from tensorflow) (1.15.0)\n",
            "Requirement already satisfied: protobuf>=3.6.1 in /usr/local/lib/python3.6/dist-packages (from tensorflow) (3.7.1)\n",
            "Requirement already satisfied: wheel>=0.26 in /usr/local/lib/python3.6/dist-packages (from tensorflow) (0.33.1)\n",
            "Requirement already satisfied: numpy>=1.13.3 in /usr/local/lib/python3.6/dist-packages (from tensorflow) (1.14.6)\n",
            "Requirement already satisfied: keras-preprocessing>=1.0.5 in /usr/local/lib/python3.6/dist-packages (from tensorflow) (1.0.9)\n",
            "Requirement already satisfied: astor>=0.6.0 in /usr/local/lib/python3.6/dist-packages (from tensorflow) (0.7.1)\n",
            "Requirement already satisfied: absl-py>=0.1.6 in /usr/local/lib/python3.6/dist-packages (from tensorflow) (0.7.1)\n",
            "Requirement already satisfied: mock>=2.0.0 in /usr/local/lib/python3.6/dist-packages (from tensorflow-estimator<1.14.0rc0,>=1.13.0->tensorflow) (2.0.0)\n",
            "Requirement already satisfied: markdown>=2.6.8 in /usr/local/lib/python3.6/dist-packages (from tensorboard<1.14.0,>=1.13.0->tensorflow) (3.1)\n",
            "Requirement already satisfied: werkzeug>=0.11.15 in /usr/local/lib/python3.6/dist-packages (from tensorboard<1.14.0,>=1.13.0->tensorflow) (0.15.2)\n",
            "Requirement already satisfied: h5py in /usr/local/lib/python3.6/dist-packages (from keras-applications>=1.0.6->tensorflow) (2.8.0)\n",
            "Requirement already satisfied: setuptools in /usr/local/lib/python3.6/dist-packages (from protobuf>=3.6.1->tensorflow) (40.9.0)\n",
            "Requirement already satisfied: pbr>=0.11 in /usr/local/lib/python3.6/dist-packages (from mock>=2.0.0->tensorflow-estimator<1.14.0rc0,>=1.13.0->tensorflow) (5.1.3)\n"
          ],
          "name": "stdout"
        }
      ]
    },
    {
      "cell_type": "code",
      "metadata": {
        "id": "VgOVJIRqvubf",
        "colab_type": "code",
        "outputId": "3add8d1b-683c-420e-f351-596c2f32d090",
        "colab": {
          "base_uri": "https://localhost:8080/",
          "height": 34
        }
      },
      "source": [
        "import tensorflow as tf\n",
        "print(tf.__version__)"
      ],
      "execution_count": 0,
      "outputs": [
        {
          "output_type": "stream",
          "text": [
            "1.13.1\n"
          ],
          "name": "stdout"
        }
      ]
    },
    {
      "cell_type": "code",
      "metadata": {
        "id": "0QUc4ZXSw7IK",
        "colab_type": "code",
        "outputId": "35ad1ad4-c0b8-4baf-f5fe-47dafc3a5d9e",
        "colab": {
          "base_uri": "https://localhost:8080/",
          "height": 445
        }
      },
      "source": [
        "!pip install tensorflow-gpu"
      ],
      "execution_count": 0,
      "outputs": [
        {
          "output_type": "stream",
          "text": [
            "Collecting tensorflow-gpu\n",
            "\u001b[?25l  Downloading https://files.pythonhosted.org/packages/7b/b1/0ad4ae02e17ddd62109cd54c291e311c4b5fd09b4d0678d3d6ce4159b0f0/tensorflow_gpu-1.13.1-cp36-cp36m-manylinux1_x86_64.whl (345.2MB)\n",
            "\u001b[K    100% |████████████████████████████████| 345.2MB 58kB/s \n",
            "\u001b[?25hRequirement already satisfied: keras-applications>=1.0.6 in /usr/local/lib/python3.6/dist-packages (from tensorflow-gpu) (1.0.7)\n",
            "Requirement already satisfied: termcolor>=1.1.0 in /usr/local/lib/python3.6/dist-packages (from tensorflow-gpu) (1.1.0)\n",
            "Requirement already satisfied: numpy>=1.13.3 in /usr/local/lib/python3.6/dist-packages (from tensorflow-gpu) (1.14.6)\n",
            "Requirement already satisfied: tensorboard<1.14.0,>=1.13.0 in /usr/local/lib/python3.6/dist-packages (from tensorflow-gpu) (1.13.1)\n",
            "Requirement already satisfied: tensorflow-estimator<1.14.0rc0,>=1.13.0 in /usr/local/lib/python3.6/dist-packages (from tensorflow-gpu) (1.13.0)\n",
            "Requirement already satisfied: six>=1.10.0 in /usr/local/lib/python3.6/dist-packages (from tensorflow-gpu) (1.11.0)\n",
            "Requirement already satisfied: wheel>=0.26 in /usr/local/lib/python3.6/dist-packages (from tensorflow-gpu) (0.33.1)\n",
            "Requirement already satisfied: absl-py>=0.1.6 in /usr/local/lib/python3.6/dist-packages (from tensorflow-gpu) (0.7.1)\n",
            "Requirement already satisfied: astor>=0.6.0 in /usr/local/lib/python3.6/dist-packages (from tensorflow-gpu) (0.7.1)\n",
            "Requirement already satisfied: grpcio>=1.8.6 in /usr/local/lib/python3.6/dist-packages (from tensorflow-gpu) (1.15.0)\n",
            "Requirement already satisfied: keras-preprocessing>=1.0.5 in /usr/local/lib/python3.6/dist-packages (from tensorflow-gpu) (1.0.9)\n",
            "Requirement already satisfied: gast>=0.2.0 in /usr/local/lib/python3.6/dist-packages (from tensorflow-gpu) (0.2.2)\n",
            "Requirement already satisfied: protobuf>=3.6.1 in /usr/local/lib/python3.6/dist-packages (from tensorflow-gpu) (3.7.1)\n",
            "Requirement already satisfied: h5py in /usr/local/lib/python3.6/dist-packages (from keras-applications>=1.0.6->tensorflow-gpu) (2.8.0)\n",
            "Requirement already satisfied: markdown>=2.6.8 in /usr/local/lib/python3.6/dist-packages (from tensorboard<1.14.0,>=1.13.0->tensorflow-gpu) (3.1)\n",
            "Requirement already satisfied: werkzeug>=0.11.15 in /usr/local/lib/python3.6/dist-packages (from tensorboard<1.14.0,>=1.13.0->tensorflow-gpu) (0.15.2)\n",
            "Requirement already satisfied: mock>=2.0.0 in /usr/local/lib/python3.6/dist-packages (from tensorflow-estimator<1.14.0rc0,>=1.13.0->tensorflow-gpu) (2.0.0)\n",
            "Requirement already satisfied: setuptools in /usr/local/lib/python3.6/dist-packages (from protobuf>=3.6.1->tensorflow-gpu) (40.9.0)\n",
            "Requirement already satisfied: pbr>=0.11 in /usr/local/lib/python3.6/dist-packages (from mock>=2.0.0->tensorflow-estimator<1.14.0rc0,>=1.13.0->tensorflow-gpu) (5.1.3)\n",
            "Installing collected packages: tensorflow-gpu\n",
            "Successfully installed tensorflow-gpu-1.13.1\n"
          ],
          "name": "stdout"
        }
      ]
    },
    {
      "cell_type": "code",
      "metadata": {
        "id": "AcoPId-e0T8-",
        "colab_type": "code",
        "outputId": "eb108e95-e4eb-47ed-e7c0-0c30df14ec65",
        "colab": {
          "resources": {
            "http://localhost:8080/nbextensions/google.colab/files.js": {
              "data": "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",
              "ok": true,
              "headers": [
                [
                  "content-type",
                  "application/javascript"
                ]
              ],
              "status": 200,
              "status_text": ""
            }
          },
          "base_uri": "https://localhost:8080/",
          "height": 173
        }
      },
      "source": [
        "import pandas as pd\n",
        "\n",
        "from google.colab import files\n",
        "file = files.upload()\n",
        "X_train = pd.read_csv(\"xtrain.csv\", header=None)\n",
        "Y_train = pd.read_csv(\"ytrain.csv\", header=None)\n",
        "X_test = pd.read_csv(\"xtest.csv\", header=None)\n",
        "Y_test = pd.read_csv(\"ytest.csv\", header=None)"
      ],
      "execution_count": 0,
      "outputs": [
        {
          "output_type": "display_data",
          "data": {
            "text/html": [
              "\n",
              "     <input type=\"file\" id=\"files-17b7f8a5-e559-4d72-ab46-cf96e3eb81cc\" name=\"files[]\" multiple disabled />\n",
              "     <output id=\"result-17b7f8a5-e559-4d72-ab46-cf96e3eb81cc\">\n",
              "      Upload widget is only available when the cell has been executed in the\n",
              "      current browser session. Please rerun this cell to enable.\n",
              "      </output>\n",
              "      <script src=\"/nbextensions/google.colab/files.js\"></script> "
            ],
            "text/plain": [
              "<IPython.core.display.HTML object>"
            ]
          },
          "metadata": {
            "tags": []
          }
        },
        {
          "output_type": "stream",
          "text": [
            "Saving xtest.csv to xtest.csv\n",
            "Saving xtrain.csv to xtrain.csv\n",
            "Saving ytest.csv to ytest.csv\n",
            "Saving ytrain.csv to ytrain.csv\n"
          ],
          "name": "stdout"
        }
      ]
    },
    {
      "cell_type": "code",
      "metadata": {
        "id": "vB5GZI9N25eD",
        "colab_type": "code",
        "outputId": "29a27683-3a2c-4107-9be9-1af8ce6f5e5a",
        "colab": {
          "base_uri": "https://localhost:8080/",
          "height": 88
        }
      },
      "source": [
        "from keras.models import Sequential\n",
        "from keras.layers import Dense\n",
        "\n",
        "classifier = Sequential()\n",
        "\n",
        "classifier.add(Dense(units = 16, activation = 'relu', input_dim = 30))\n",
        "classifier.add(Dense(units = 8, activation = 'relu'))\n",
        "classifier.add(Dense(units = 6, activation = 'relu'))\n",
        "classifier.add(Dense(units = 1, activation = 'sigmoid'))"
      ],
      "execution_count": 0,
      "outputs": [
        {
          "output_type": "stream",
          "text": [
            "WARNING:tensorflow:From /usr/local/lib/python3.6/dist-packages/tensorflow/python/framework/op_def_library.py:263: colocate_with (from tensorflow.python.framework.ops) is deprecated and will be removed in a future version.\n",
            "Instructions for updating:\n",
            "Colocations handled automatically by placer.\n"
          ],
          "name": "stdout"
        }
      ]
    },
    {
      "cell_type": "code",
      "metadata": {
        "id": "LZ7QIPcR5Oc7",
        "colab_type": "code",
        "colab": {}
      },
      "source": [
        "classifier.compile(optimizer = 'rmsprop', loss = 'binary_crossentropy')"
      ],
      "execution_count": 0,
      "outputs": []
    },
    {
      "cell_type": "code",
      "metadata": {
        "id": "2VYi2Kj85yqP",
        "colab_type": "code",
        "outputId": "6b06b92c-69ac-4142-fd97-e1a29dec0c5d",
        "colab": {
          "base_uri": "https://localhost:8080/",
          "height": 3505
        }
      },
      "source": [
        "classifier.fit(X_train, Y_train, batch_size = 1, epochs = 100)"
      ],
      "execution_count": 0,
      "outputs": [
        {
          "output_type": "stream",
          "text": [
            "WARNING:tensorflow:From /usr/local/lib/python3.6/dist-packages/tensorflow/python/ops/math_ops.py:3066: to_int32 (from tensorflow.python.ops.math_ops) is deprecated and will be removed in a future version.\n",
            "Instructions for updating:\n",
            "Use tf.cast instead.\n",
            "Epoch 1/100\n",
            "455/455 [==============================] - 3s 7ms/step - loss: 0.2250\n",
            "Epoch 2/100\n",
            "455/455 [==============================] - 2s 4ms/step - loss: 0.0882\n",
            "Epoch 3/100\n",
            "455/455 [==============================] - 2s 4ms/step - loss: 0.0795\n",
            "Epoch 4/100\n",
            "455/455 [==============================] - 2s 4ms/step - loss: 0.0805\n",
            "Epoch 5/100\n",
            "455/455 [==============================] - 2s 4ms/step - loss: 0.0887\n",
            "Epoch 6/100\n",
            "455/455 [==============================] - 2s 4ms/step - loss: 0.0838\n",
            "Epoch 7/100\n",
            "455/455 [==============================] - 2s 4ms/step - loss: 0.0910\n",
            "Epoch 8/100\n",
            "455/455 [==============================] - 2s 4ms/step - loss: 0.0919\n",
            "Epoch 9/100\n",
            "455/455 [==============================] - 2s 4ms/step - loss: 0.0857\n",
            "Epoch 10/100\n",
            "455/455 [==============================] - 2s 4ms/step - loss: 0.0870\n",
            "Epoch 11/100\n",
            "455/455 [==============================] - 2s 4ms/step - loss: 0.0848\n",
            "Epoch 12/100\n",
            "455/455 [==============================] - 2s 4ms/step - loss: 0.0879\n",
            "Epoch 13/100\n",
            "455/455 [==============================] - 2s 4ms/step - loss: 0.0970\n",
            "Epoch 14/100\n",
            "455/455 [==============================] - 2s 4ms/step - loss: 0.0902\n",
            "Epoch 15/100\n",
            "455/455 [==============================] - 2s 4ms/step - loss: 0.0836\n",
            "Epoch 16/100\n",
            "455/455 [==============================] - 2s 4ms/step - loss: 0.0862\n",
            "Epoch 17/100\n",
            "455/455 [==============================] - 2s 4ms/step - loss: 0.0822\n",
            "Epoch 18/100\n",
            "455/455 [==============================] - 2s 4ms/step - loss: 0.0834\n",
            "Epoch 19/100\n",
            "455/455 [==============================] - 2s 4ms/step - loss: 0.0923\n",
            "Epoch 20/100\n",
            "455/455 [==============================] - 2s 4ms/step - loss: 0.0834\n",
            "Epoch 21/100\n",
            "455/455 [==============================] - 2s 4ms/step - loss: 0.0808\n",
            "Epoch 22/100\n",
            "455/455 [==============================] - 2s 4ms/step - loss: 0.0757\n",
            "Epoch 23/100\n",
            "455/455 [==============================] - 2s 4ms/step - loss: 0.0823\n",
            "Epoch 24/100\n",
            "455/455 [==============================] - 2s 4ms/step - loss: 0.0750\n",
            "Epoch 25/100\n",
            "455/455 [==============================] - 2s 4ms/step - loss: 0.0790\n",
            "Epoch 26/100\n",
            "455/455 [==============================] - 2s 4ms/step - loss: 0.0753\n",
            "Epoch 27/100\n",
            "455/455 [==============================] - 2s 4ms/step - loss: 0.0740\n",
            "Epoch 28/100\n",
            "455/455 [==============================] - 2s 4ms/step - loss: 0.0813\n",
            "Epoch 29/100\n",
            "455/455 [==============================] - 2s 4ms/step - loss: 0.0712\n",
            "Epoch 30/100\n",
            "455/455 [==============================] - 2s 4ms/step - loss: 0.1054\n",
            "Epoch 31/100\n",
            "455/455 [==============================] - 2s 4ms/step - loss: 0.0880\n",
            "Epoch 32/100\n",
            "455/455 [==============================] - 2s 4ms/step - loss: 0.0739\n",
            "Epoch 33/100\n",
            "455/455 [==============================] - 2s 4ms/step - loss: 0.0729\n",
            "Epoch 34/100\n",
            "455/455 [==============================] - 2s 5ms/step - loss: 0.0761\n",
            "Epoch 35/100\n",
            "455/455 [==============================] - 2s 4ms/step - loss: 0.0994\n",
            "Epoch 36/100\n",
            "455/455 [==============================] - 2s 4ms/step - loss: 0.0763\n",
            "Epoch 37/100\n",
            "455/455 [==============================] - 2s 4ms/step - loss: 0.0916\n",
            "Epoch 38/100\n",
            "455/455 [==============================] - 2s 4ms/step - loss: 0.0672\n",
            "Epoch 39/100\n",
            "455/455 [==============================] - 2s 4ms/step - loss: 0.0603\n",
            "Epoch 40/100\n",
            "455/455 [==============================] - 2s 4ms/step - loss: 0.0768\n",
            "Epoch 41/100\n",
            "455/455 [==============================] - 2s 4ms/step - loss: 0.1000\n",
            "Epoch 42/100\n",
            "455/455 [==============================] - 2s 4ms/step - loss: 0.0909\n",
            "Epoch 43/100\n",
            "455/455 [==============================] - 2s 4ms/step - loss: 0.0689\n",
            "Epoch 44/100\n",
            "455/455 [==============================] - 2s 4ms/step - loss: 0.0648\n",
            "Epoch 45/100\n",
            "455/455 [==============================] - 2s 4ms/step - loss: 0.0770\n",
            "Epoch 46/100\n",
            "455/455 [==============================] - 2s 4ms/step - loss: 0.0594\n",
            "Epoch 47/100\n",
            "455/455 [==============================] - 2s 4ms/step - loss: 0.0659\n",
            "Epoch 48/100\n",
            "455/455 [==============================] - 2s 4ms/step - loss: 0.0713\n",
            "Epoch 49/100\n",
            "455/455 [==============================] - 2s 4ms/step - loss: 0.0703\n",
            "Epoch 50/100\n",
            "455/455 [==============================] - 2s 4ms/step - loss: 0.0569\n",
            "Epoch 51/100\n",
            "455/455 [==============================] - 2s 4ms/step - loss: 0.0938\n",
            "Epoch 52/100\n",
            "455/455 [==============================] - 2s 4ms/step - loss: 0.0626\n",
            "Epoch 53/100\n",
            "455/455 [==============================] - 2s 4ms/step - loss: 0.0650\n",
            "Epoch 54/100\n",
            "455/455 [==============================] - 2s 4ms/step - loss: 0.0637\n",
            "Epoch 55/100\n",
            "455/455 [==============================] - 2s 5ms/step - loss: 0.0633\n",
            "Epoch 56/100\n",
            "455/455 [==============================] - 2s 5ms/step - loss: 0.0783\n",
            "Epoch 57/100\n",
            "455/455 [==============================] - 2s 4ms/step - loss: 0.0539\n",
            "Epoch 58/100\n",
            "455/455 [==============================] - 2s 4ms/step - loss: 0.0683\n",
            "Epoch 59/100\n",
            "455/455 [==============================] - 2s 4ms/step - loss: 0.0592\n",
            "Epoch 60/100\n",
            "455/455 [==============================] - 2s 4ms/step - loss: 0.0759\n",
            "Epoch 61/100\n",
            "455/455 [==============================] - 2s 4ms/step - loss: 0.0634\n",
            "Epoch 62/100\n",
            "455/455 [==============================] - 2s 4ms/step - loss: 0.0909\n",
            "Epoch 63/100\n",
            "455/455 [==============================] - 2s 4ms/step - loss: 0.0544\n",
            "Epoch 64/100\n",
            "455/455 [==============================] - 2s 4ms/step - loss: 0.0757\n",
            "Epoch 65/100\n",
            "455/455 [==============================] - 2s 4ms/step - loss: 0.0670\n",
            "Epoch 66/100\n",
            "455/455 [==============================] - 2s 4ms/step - loss: 0.0829\n",
            "Epoch 67/100\n",
            "455/455 [==============================] - 2s 4ms/step - loss: 0.0738\n",
            "Epoch 68/100\n",
            "455/455 [==============================] - 2s 4ms/step - loss: 0.0661\n",
            "Epoch 69/100\n",
            "455/455 [==============================] - 2s 4ms/step - loss: 0.0559\n",
            "Epoch 70/100\n",
            "455/455 [==============================] - 2s 4ms/step - loss: 0.0569\n",
            "Epoch 71/100\n",
            "455/455 [==============================] - 2s 4ms/step - loss: 0.0629\n",
            "Epoch 72/100\n",
            "455/455 [==============================] - 2s 4ms/step - loss: 0.0808\n",
            "Epoch 73/100\n",
            "455/455 [==============================] - 2s 4ms/step - loss: 0.0816\n",
            "Epoch 74/100\n",
            "455/455 [==============================] - 2s 4ms/step - loss: 0.0785\n",
            "Epoch 75/100\n",
            "455/455 [==============================] - 2s 4ms/step - loss: 0.0662\n",
            "Epoch 76/100\n",
            "455/455 [==============================] - 2s 4ms/step - loss: 0.0961\n",
            "Epoch 77/100\n",
            "455/455 [==============================] - 2s 4ms/step - loss: 0.0815\n",
            "Epoch 78/100\n",
            "455/455 [==============================] - 2s 4ms/step - loss: 0.0650\n",
            "Epoch 79/100\n",
            "455/455 [==============================] - 2s 4ms/step - loss: 0.0810\n",
            "Epoch 80/100\n",
            "455/455 [==============================] - 2s 4ms/step - loss: 0.0854\n",
            "Epoch 81/100\n",
            "455/455 [==============================] - 2s 4ms/step - loss: 0.0851\n",
            "Epoch 82/100\n",
            "455/455 [==============================] - 2s 4ms/step - loss: 0.0846\n",
            "Epoch 83/100\n",
            "455/455 [==============================] - 2s 4ms/step - loss: 0.0858\n",
            "Epoch 84/100\n",
            "455/455 [==============================] - 2s 4ms/step - loss: 0.0750\n",
            "Epoch 85/100\n",
            "455/455 [==============================] - 2s 4ms/step - loss: 0.0618\n",
            "Epoch 86/100\n",
            "455/455 [==============================] - 2s 4ms/step - loss: 0.0621\n",
            "Epoch 87/100\n",
            "455/455 [==============================] - 2s 4ms/step - loss: 0.0612\n",
            "Epoch 88/100\n",
            "455/455 [==============================] - 2s 4ms/step - loss: 0.0627\n",
            "Epoch 89/100\n",
            "455/455 [==============================] - 2s 4ms/step - loss: 0.0870\n",
            "Epoch 90/100\n",
            "455/455 [==============================] - 2s 4ms/step - loss: 0.0820\n",
            "Epoch 91/100\n",
            "455/455 [==============================] - 2s 4ms/step - loss: 0.0797\n",
            "Epoch 92/100\n",
            "455/455 [==============================] - 2s 4ms/step - loss: 0.0735\n",
            "Epoch 93/100\n",
            "455/455 [==============================] - 2s 4ms/step - loss: 0.0647\n",
            "Epoch 94/100\n",
            "455/455 [==============================] - 2s 4ms/step - loss: 0.0804\n",
            "Epoch 95/100\n",
            "455/455 [==============================] - 2s 4ms/step - loss: 0.0545\n",
            "Epoch 96/100\n",
            "455/455 [==============================] - 2s 4ms/step - loss: 0.0546\n",
            "Epoch 97/100\n",
            "455/455 [==============================] - 2s 4ms/step - loss: 0.0473\n",
            "Epoch 98/100\n",
            "455/455 [==============================] - 2s 4ms/step - loss: 0.0797\n",
            "Epoch 99/100\n",
            "455/455 [==============================] - 2s 4ms/step - loss: 0.0794\n",
            "Epoch 100/100\n",
            "455/455 [==============================] - 2s 4ms/step - loss: 0.0743\n"
          ],
          "name": "stdout"
        },
        {
          "output_type": "execute_result",
          "data": {
            "text/plain": [
              "<keras.callbacks.History at 0x7fd55268e7f0>"
            ]
          },
          "metadata": {
            "tags": []
          },
          "execution_count": 9
        }
      ]
    },
    {
      "cell_type": "code",
      "metadata": {
        "id": "xo0ylK9M68q0",
        "colab_type": "code",
        "colab": {}
      },
      "source": [
        "Y_pred = classifier.predict(X_test)\n",
        "Y_pred = [1 if y >=0.5 else 0 for y in Y_pred]"
      ],
      "execution_count": 0,
      "outputs": []
    },
    {
      "cell_type": "code",
      "metadata": {
        "id": "x7NKkBBr8QXy",
        "colab_type": "code",
        "outputId": "66bdd1cd-719f-4bff-889a-fdfb830a3dec",
        "colab": {
          "base_uri": "https://localhost:8080/",
          "height": 68
        }
      },
      "source": [
        "total = 0\n",
        "correct = 0\n",
        "wrong = 0\n",
        "\n",
        "for i in range(len(Y_pred)):\n",
        "  total = total + 1\n",
        "  if (Y_test.at[i,0] == Y_pred[i]):\n",
        "    correct = correct+1\n",
        "  else:\n",
        "    wrong = wrong+1\n",
        " \n",
        "print(\"Total \" + str(total))\n",
        "print(\"Correct \" + str(correct))\n",
        "print(\"Wrong \" + str(wrong))"
      ],
      "execution_count": 0,
      "outputs": [
        {
          "output_type": "stream",
          "text": [
            "Total 114\n",
            "Correct 111\n",
            "Wrong 3\n"
          ],
          "name": "stdout"
        }
      ]
    }
  ]
}